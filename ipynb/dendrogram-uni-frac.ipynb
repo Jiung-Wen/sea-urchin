{
 "cells": [
  {
   "cell_type": "code",
   "execution_count": 1,
   "metadata": {},
   "outputs": [],
   "source": [
    "%matplotlib inline\n",
    "\n",
    "import pandas as pd\n",
    "import numpy as np\n",
    "import matplotlib.pyplot as plt\n",
    "import seaborn as sns\n",
    "import skbio\n",
    "from scipy.cluster import hierarchy\n",
    "\n",
    "from qiime2 import Artifact"
   ]
  },
  {
   "cell_type": "code",
   "execution_count": 2,
   "metadata": {},
   "outputs": [],
   "source": [
    "matrix = Artifact.load('../input_data/matrix/weighted_unifrac_distance_matrix.qza')"
   ]
  },
  {
   "cell_type": "code",
   "execution_count": 3,
   "metadata": {},
   "outputs": [
    {
     "data": {
      "text/html": [
       "<div>\n",
       "<style scoped>\n",
       "    .dataframe tbody tr th:only-of-type {\n",
       "        vertical-align: middle;\n",
       "    }\n",
       "\n",
       "    .dataframe tbody tr th {\n",
       "        vertical-align: top;\n",
       "    }\n",
       "\n",
       "    .dataframe thead th {\n",
       "        text-align: right;\n",
       "    }\n",
       "</style>\n",
       "<table border=\"1\" class=\"dataframe\">\n",
       "  <thead>\n",
       "    <tr style=\"text-align: right;\">\n",
       "      <th></th>\n",
       "      <th>Location</th>\n",
       "      <th>Type</th>\n",
       "      <th>Sample type</th>\n",
       "    </tr>\n",
       "    <tr>\n",
       "      <th>Sample Id</th>\n",
       "      <th></th>\n",
       "      <th></th>\n",
       "      <th></th>\n",
       "    </tr>\n",
       "  </thead>\n",
       "  <tbody>\n",
       "    <tr>\n",
       "      <th>ENVGutDigesta1</th>\n",
       "      <td>Digesta</td>\n",
       "      <td>ENV</td>\n",
       "      <td>ENV-Digesta</td>\n",
       "    </tr>\n",
       "    <tr>\n",
       "      <th>ENVGutDigesta2</th>\n",
       "      <td>Digesta</td>\n",
       "      <td>ENV</td>\n",
       "      <td>ENV-Digesta</td>\n",
       "    </tr>\n",
       "    <tr>\n",
       "      <th>ENVGutDigesta3</th>\n",
       "      <td>Digesta</td>\n",
       "      <td>ENV</td>\n",
       "      <td>ENV-Digesta</td>\n",
       "    </tr>\n",
       "    <tr>\n",
       "      <th>ENVGutTissue1</th>\n",
       "      <td>Tissue</td>\n",
       "      <td>ENV</td>\n",
       "      <td>ENV-Tissue</td>\n",
       "    </tr>\n",
       "    <tr>\n",
       "      <th>ENVGutTissue2</th>\n",
       "      <td>Tissue</td>\n",
       "      <td>ENV</td>\n",
       "      <td>ENV-Tissue</td>\n",
       "    </tr>\n",
       "    <tr>\n",
       "      <th>ENVGutTissue3</th>\n",
       "      <td>Tissue</td>\n",
       "      <td>ENV</td>\n",
       "      <td>ENV-Tissue</td>\n",
       "    </tr>\n",
       "    <tr>\n",
       "      <th>LabGutDigesta1</th>\n",
       "      <td>Digesta</td>\n",
       "      <td>LAB</td>\n",
       "      <td>LAB-Digesta</td>\n",
       "    </tr>\n",
       "    <tr>\n",
       "      <th>LabGutDigesta2</th>\n",
       "      <td>Digesta</td>\n",
       "      <td>LAB</td>\n",
       "      <td>LAB-Digesta</td>\n",
       "    </tr>\n",
       "    <tr>\n",
       "      <th>LabGutDigesta3</th>\n",
       "      <td>Digesta</td>\n",
       "      <td>LAB</td>\n",
       "      <td>LAB-Digesta</td>\n",
       "    </tr>\n",
       "    <tr>\n",
       "      <th>LabGutTissue1</th>\n",
       "      <td>Tissue</td>\n",
       "      <td>LAB</td>\n",
       "      <td>LAB-Tissue</td>\n",
       "    </tr>\n",
       "    <tr>\n",
       "      <th>LabGutTissue2</th>\n",
       "      <td>Tissue</td>\n",
       "      <td>LAB</td>\n",
       "      <td>LAB-Tissue</td>\n",
       "    </tr>\n",
       "    <tr>\n",
       "      <th>LabGutTissue3</th>\n",
       "      <td>Tissue</td>\n",
       "      <td>LAB</td>\n",
       "      <td>LAB-Tissue</td>\n",
       "    </tr>\n",
       "  </tbody>\n",
       "</table>\n",
       "</div>"
      ],
      "text/plain": [
       "               Location Type  Sample type\n",
       "Sample Id                                \n",
       "ENVGutDigesta1  Digesta  ENV  ENV-Digesta\n",
       "ENVGutDigesta2  Digesta  ENV  ENV-Digesta\n",
       "ENVGutDigesta3  Digesta  ENV  ENV-Digesta\n",
       "ENVGutTissue1    Tissue  ENV   ENV-Tissue\n",
       "ENVGutTissue2    Tissue  ENV   ENV-Tissue\n",
       "ENVGutTissue3    Tissue  ENV   ENV-Tissue\n",
       "LabGutDigesta1  Digesta  LAB  LAB-Digesta\n",
       "LabGutDigesta2  Digesta  LAB  LAB-Digesta\n",
       "LabGutDigesta3  Digesta  LAB  LAB-Digesta\n",
       "LabGutTissue1    Tissue  LAB   LAB-Tissue\n",
       "LabGutTissue2    Tissue  LAB   LAB-Tissue\n",
       "LabGutTissue3    Tissue  LAB   LAB-Tissue"
      ]
     },
     "execution_count": 3,
     "metadata": {},
     "output_type": "execute_result"
    }
   ],
   "source": [
    "metadata = pd.read_csv('../input_data/metadata.txt', sep='\\t', index_col=0)\n",
    "metadata['Sample type'] = metadata['Type'] + '-' + metadata['Location']\n",
    "metadata"
   ]
  },
  {
   "cell_type": "code",
   "execution_count": 4,
   "metadata": {},
   "outputs": [],
   "source": [
    "type2color = dict(zip(metadata['Sample type'].unique(),'rgbk'))\n",
    "type2shape = dict(zip(metadata['Sample type'].unique(),'os^v'))"
   ]
  },
  {
   "cell_type": "code",
   "execution_count": 5,
   "metadata": {},
   "outputs": [
    {
     "name": "stdout",
     "output_type": "stream",
     "text": [
      "['●', '◼', '▲', '▼']\n"
     ]
    }
   ],
   "source": [
    "uni_shape = [u'\\u25CF',u'\\u25FC',u'\\u25B2',u'\\u25BC']\n",
    "print(uni_shape)\n",
    "shape2unishape = dict(zip('os^v',uni_shape ))"
   ]
  },
  {
   "cell_type": "code",
   "execution_count": 14,
   "metadata": {},
   "outputs": [
    {
     "data": {
      "image/png": "[encoded data removed]",
      "text/plain": [
       "<Figure size 500x300 with 1 Axes>"
      ]
     },
     "metadata": {},
     "output_type": "display_data"
    }
   ],
   "source": [
    "dis_matrix = matrix.view(skbio.DistanceMatrix)\n",
    "\n",
    "Z = hierarchy.linkage(dis_matrix.condensed_form(), 'average')\n",
    "\n",
    "plt.style.use('default')\n",
    "fig, ax = plt.subplots(figsize=(5,3))\n",
    "dn = hierarchy.dendrogram(Z,labels=metadata.index, above_threshold_color='k',\n",
    "                          color_threshold=0)\n",
    "\n",
    "\n",
    "shapes = []\n",
    "for xtick in ax.get_xticklabels():\n",
    "    xtick_label = xtick.get_text()\n",
    "    t = metadata.loc[xtick_label,'Sample type']\n",
    "    \n",
    "    marker_color = type2color[t]\n",
    "    xtick.set_color(marker_color)\n",
    "    \n",
    "    marker_shape = type2shape[t]\n",
    "    shape = shape2unishape[marker_shape]\n",
    "    shapes.append(shape)\n",
    "    \n",
    "ax.set_xticklabels(shapes)\n",
    "\n",
    "ax.spines['top'].set_visible(False)\n",
    "ax.spines['bottom'].set_visible(False)    \n",
    "ax.spines['right'].set_visible(False)\n",
    "ax.spines['left'].set_linewidth(1.5)\n",
    "# ax.tick_params('y', colors='k')\n",
    "\n",
    "plt.xlabel('Samples', fontsize=12)\n",
    "plt.ylabel('Weighted UniFrac dissimilarity', fontsize=11, weight='medium')\n",
    "plt.xticks(fontsize=14)\n",
    "plt.yticks(fontsize=12)\n",
    "plt.tight_layout()\n",
    "plt.savefig('../figures/dendrogram-wt-unifrac.png', dpi=600)\n",
    "plt.show()"
   ]
  }
 ],
 "metadata": {
  "kernelspec": {
   "display_name": "Python 3",
   "language": "python",
   "name": "python3"
  },
  "language_info": {
   "codemirror_mode": {
    "name": "ipython",
    "version": 3
   },
   "file_extension": ".py",
   "mimetype": "text/x-python",
   "name": "python",
   "nbconvert_exporter": "python",
   "pygments_lexer": "ipython3",
   "version": "3.6.7"
  }
 },
 "nbformat": 4,
 "nbformat_minor": 2
}
